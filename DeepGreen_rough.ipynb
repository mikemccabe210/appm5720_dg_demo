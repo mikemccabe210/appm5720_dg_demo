{
 "cells": [
  {
   "cell_type": "markdown",
   "id": "28dbb055",
   "metadata": {
    "id": "28dbb055"
   },
   "source": [
    "# APPM 5720 DeepGreen Example Notebook\n",
    "#### Paper: DeepGreen: deep learning of Green’s functions for nonlinear boundary value problems\n",
    "#### Paper by: Craig R. Gin, Daniel E. Shea, Steven L. Brunton, and J. Nathan Kutz\n",
    "#### Notebook by: Rey Koki and Mike McCabe\n",
    "\n",
    "This notebook walks through the nonlinear Poisson problem from _DeepGreen_. Several steps are slightly simplified from the original code, which can be found here: https://github.com/sheadan/DeepGreen, since we're only implementing one example and do not need the fully general code. We also make a few small departures for efficiency/speed purposes. These will be pointed out when they come up.\n",
    "\n",
    "## Nonlinear Poisson\n",
    "\n",
    "Put the problem description here!"
   ]
  },
  {
   "cell_type": "code",
   "execution_count": 1,
   "id": "083b497f",
   "metadata": {
    "id": "083b497f"
   },
   "outputs": [
    {
     "name": "stdout",
     "output_type": "stream",
     "text": [
      "Device used gpu\n"
     ]
    }
   ],
   "source": [
    "# Imports!\n",
    "import numpy as np\n",
    "import jax\n",
    "import jax.random as rnd\n",
    "import jax.numpy as jnp\n",
    "import optax\n",
    "import flax.linen as nn\n",
    "import functools\n",
    "import matplotlib.pyplot as plt\n",
    "from flax.training import train_state\n",
    "from flax.metrics import tensorboard\n",
    "from random import shuffle\n",
    "from typing import Sequence, Callable, Any, Optional, Dict\n",
    "from jax.lib import xla_bridge\n",
    "print('Device used', xla_bridge.get_backend().platform)"
   ]
  },
  {
   "cell_type": "markdown",
   "id": "bfcb43d8",
   "metadata": {
    "id": "bfcb43d8"
   },
   "source": [
    "## Defining the Neural Network\n",
    "\n",
    "Here we define the neural network. Here, we use the Flax library built on top of JAX. JAX is an automatic differentiation and linear algebra acceleration library developed by Google. The API is intended to mimic numpy, though it has the added capability for functional transformations like computing gradients, automatically vectorizing code, or just-in-time (JIT) compiling it down to XLA code.\n",
    "\n",
    "Flax tends to have quite a bit of complexity hidden behind the scenes which makes it a bit harder to use than comparable libraries like PyTorch. Looking through the code below, it might seem like some things are being instantiated every time the model is called, but in practice, these objects are traced when they are instantiated and the actual object being behaves slightly differently. \n",
    "\n",
    "The model itself consists of two sets of encoders/decoders with the linear operator acting as a coupling mechanism in the encoding space. We start off by defining the Encoder and Decoder templates:\n",
    "\n",
    "__We didn't directly parameterize the encoder/decoders in DeepGreen for this demo, so to adjust the layers/depth/activations you'll have to do it directly (or adjust the code to pass parameters to the inner modules. If you adjust the layer count, you also need to adjust the downsampling factor in GreenNet to use custom resolutions (values of n).__"
   ]
  },
  {
   "cell_type": "code",
   "execution_count": 2,
   "id": "d06c81cc",
   "metadata": {
    "id": "d06c81cc"
   },
   "outputs": [],
   "source": [
    "class Conv2DEncoder(nn.Module):\n",
    "    # This is a DataClass, so these implicitly define init parameters\n",
    "    num_filters: Sequence[int] = (8, 16, 32, 64)\n",
    "    conv_window: Sequence[int] = (4, 4)\n",
    "    conv_strides: int = (1,1)\n",
    "    conv_padding: str = 'SAME'\n",
    "    pool_window: Sequence[int] = (2, 2)\n",
    "    pool_strides: int = (2,2)\n",
    "    pool_padding: str = 'VALID'\n",
    "    act_fn: Callable = nn.relu\n",
    "    add_init_fin: bool = True\n",
    "        \n",
    "    @nn.compact\n",
    "    def __call__(self, x):\n",
    "        inputs = x[:] # Save copy of inputs for residual        \n",
    "        for i, filters in enumerate(self.num_filters):\n",
    "            if i > 0:\n",
    "                x = nn.avg_pool(x, window_shape=self.pool_window,\n",
    "                                strides=self.pool_strides,\n",
    "                               padding=self.pool_padding)\n",
    "            x = nn.Conv(features=filters, kernel_size=self.conv_window,\n",
    "                       strides=self.conv_strides, padding=self.conv_padding)(x)\n",
    "            x = self.act_fn(x)\n",
    "            # If residual included, add projected inputs\n",
    "        if self.add_init_fin:\n",
    "            inputs = nn.Conv(features=self.num_filters[-1], \n",
    "                        kernel_size=(2**(len(self.num_filters)-1),)*2,\n",
    "                         strides=(2**(len(self.num_filters)-1),)*2,\n",
    "                        padding='VALID')(inputs)\n",
    "\n",
    "            x += inputs\n",
    "        return x.reshape(x.shape[0], -1)\n",
    "                \n",
    "    \n",
    "class Conv2DDecoder(nn.Module):\n",
    "    init_size: Sequence[int] = (16, 16, 64)\n",
    "    output_size: Sequence[int] = (-1, 128, 128)\n",
    "    num_filters: Sequence[int] = (32, 16, 8)\n",
    "    conv_window: Sequence[int] = (4, 4)\n",
    "    conv_strides:int = (2,2)\n",
    "    conv_padding: str = 'SAME'\n",
    "    act_fn: Callable = nn.relu\n",
    "    add_init_fin: bool = True\n",
    "        \n",
    "    @nn.compact\n",
    "    def __call__(self, x):\n",
    "        x = x.reshape(-1, *self.init_size)\n",
    "        inputs = x[:]\n",
    "        for filters in self.num_filters:\n",
    "            x = nn.ConvTranspose(features=filters, kernel_size=self.conv_window,\n",
    "                                 strides=self.conv_strides, padding=self.conv_padding)(x)\n",
    "            x = self.act_fn(x)\n",
    "        # Do one last small convolution\n",
    "        x = nn.ConvTranspose(features=1,\n",
    "                             kernel_size=self.conv_window,\n",
    "                            strides=(1,1),\n",
    "                            padding=self.conv_padding)(x).squeeze(-1)\n",
    "        \n",
    "        # Note this a departure from the actual paper code\n",
    "        # which just reshapes the encoder space to add. Since\n",
    "        # that makes no sense (it's like trying to add a smaller color\n",
    "        # image to a larger greyscale image by shifting the RGB values to different\n",
    "        # pixels to make the shapes line up), we've swapped to standard upsampling\n",
    "        if self.add_init_fin:\n",
    "            inputs = nn.Conv(features=1, kernel_size=(1, 1))(inputs).squeeze(-1)\n",
    "            inputs = jax.image.resize(inputs, shape=(inputs.shape[0], *self.output_size[1:]), method='linear')\n",
    "            x += inputs\n",
    "        return x"
   ]
  },
  {
   "cell_type": "markdown",
   "id": "634377d0",
   "metadata": {
    "id": "634377d0"
   },
   "source": [
    "Once the encoders and decoders are built, the full model just connects the encoder/decoder pairs through a few linear projections and the linear operator. The sequential linear operations are a little unconventional as these are essentially a single low-rank linear operator though with the coupling $Lv=f$/$L^{-1}f=v$ promoted by the loss function.\n",
    "\n",
    "Note that we return all values included in loss functions. In applications, one would likely only be using the trained model to infer $u$ from $f$ and as such would not require all outputs."
   ]
  },
  {
   "cell_type": "code",
   "execution_count": 3,
   "id": "50eb2a30",
   "metadata": {
    "id": "50eb2a30"
   },
   "outputs": [],
   "source": [
    "class GreenNet(nn.Module):\n",
    "    # Note, since we're only doing the nonlinear Poisson example,\n",
    "    # we removed some of the parameterization here to simplify things\n",
    "    n: int = 128\n",
    "    units_latent: int = 200    \n",
    "    \n",
    "    @nn.compact\n",
    "    def __call__(self, inputs):\n",
    "        u, F = inputs\n",
    "        \n",
    "        # Let's define our modules. Since we reuse them, it probably would have\n",
    "        # made more sense to not use nn.compact and just use a setup function\n",
    "        # but it is too late now. This is getting traced anyway,\n",
    "        # so it doesn't actually matter apart from looking a bit clunky.\n",
    "        u_encoder = Conv2DEncoder()\n",
    "        u_decoder = Conv2DDecoder(output_size=(-1, self.n, self.n), init_size=(self.n//8, self.n//8, 64))\n",
    "        v_reducer = nn.Dense(self.units_latent)\n",
    "        v_expander = nn.Dense(self.n**2)\n",
    "        \n",
    "        F_encoder = Conv2DEncoder()\n",
    "        F_decoder = Conv2DDecoder(output_size=(-1, self.n, self.n), init_size=(self.n//8, self.n//8, 64))\n",
    "        f_reducer = nn.Dense(self.units_latent)\n",
    "        f_expander = nn.Dense(self.n**2)\n",
    "        \n",
    "        operator = self.param('Operator', init_fn=lambda key: jnp.eye(self.units_latent)*1.)\n",
    "\n",
    "        # Autoencode u\n",
    "        u_encoded = u_encoder(u)\n",
    "        # I guess this avoids doing a large dense matrix inverse\n",
    "        v = v_reducer(u_encoded)\n",
    "        v_exp = v_expander(v)\n",
    "        u_decoded = u_decoder(v_exp)\n",
    "        \n",
    "        # Autoencode F\n",
    "        F_encoded = F_encoder(F)\n",
    "        f = f_reducer(F_encoded)\n",
    "        f_exp = f_expander(f)\n",
    "        F_decoded = F_decoder(f_exp)  \n",
    "        \n",
    "        # L things - seems kind of wasteful, but L is small\n",
    "        L_upper = jnp.triu(operator)\n",
    "        L = .5*(L_upper+L_upper.T)\n",
    "        \n",
    "        # Forward model\n",
    "        Lv = jax.lax.dot_general(v, L,\n",
    "                                 (((v.ndim - 1,), (0,)), ((), ())),)\n",
    "        Lv_exp = f_expander(Lv)\n",
    "        Lv_decoded = F_decoder(Lv_exp)\n",
    "        \n",
    "        # Inverse model\n",
    "        Linvf = jnp.linalg.solve(jnp.expand_dims(L, 0), f)\n",
    "        Linvf_exp = f_expander(Linvf)\n",
    "        Linvf_decoded = F_decoder(Linvf_exp)\n",
    "        \n",
    "        return u_decoded, F_decoded, Lv_decoded, Linvf_decoded, f, v, Lv"
   ]
  },
  {
   "cell_type": "markdown",
   "id": "55dff1b0",
   "metadata": {
    "id": "55dff1b0"
   },
   "source": [
    "## Building the data set\n",
    "\n",
    "We handle data a bit differently from the paper to avoid forcing everyone to download several GB of data. The paper generated data by sampling forcing functions and using an external solver to generate solutions. This is time consuming and doesn't actually compute the exact loss. We instead use the Method of Manufactured Solutions (MMS) so that we can generate solutions and forcings in real time.\n",
    "\n",
    "As opposed to computing true solutions for given forcings, in MMS, you sample solutions and compute the forcing by applying the differential operator to the solution. While this doesn't always result in realistic problems and generally requires smooth solutions, it is much, much faster and more accurate than generating data from numerical solvers. The downside is that using their forcings as solutions breaks boundary conditions which isn't ideal given the proposal is to learn a Green's function in the encoder space, so we changed some of the functions up to ensure homogeneous BCs. \n",
    "\n",
    "This data API here is a little weird - the original version was too slow for demo purposes, so the final version is a mix between the original version (which used a more standard data API) and a JIT-friendly data API. The test/train split components are the main victims here as they ultimately got hard-coded with some unnecessary storage."
   ]
  },
  {
   "cell_type": "code",
   "execution_count": 4,
   "id": "bd143ed1",
   "metadata": {
    "id": "bd143ed1"
   },
   "outputs": [],
   "source": [
    "from itertools import product\n",
    "\n",
    "def nlp_operator(u):\n",
    "    \"\"\" Transforms function by applying the nonlinear Poisson operator:\n",
    "      \n",
    "        Pu = -\\nabla \\dot ((1+u^2)\\nabla u)\n",
    "    \"\"\"\n",
    "    flux = lambda x: (1+u(x)**2)*(jax.grad(u)(x))\n",
    "    return lambda x: (-jax.jacfwd(flux)(x)*jnp.eye(2)).sum()\n",
    "    \n",
    "def jax_collate(batch):\n",
    "    if isinstance(batch[0], jnp.DeviceArray):\n",
    "        return jnp.stack(batch)\n",
    "    elif isinstance(batch[0], (tuple,list)):\n",
    "        transposed = zip(*batch)\n",
    "        return [jax_collate(samples) for samples in transposed]\n",
    "    else:\n",
    "        return jnp.array(batch)\n",
    "    \n",
    "def NLP_Dataset_Sampler(n=128, batch_size=64, cubic=False, train=True, valid=False, test=False):\n",
    "    \"\"\" Factory for building data samplers for training.\n",
    "    \n",
    "    Parameters\n",
    "    -----------\n",
    "    n ~ int: Number of grid points in the x and y directions\n",
    "    batch size ~ int: Examples per batch.\n",
    "    cubic ~ bool: Indicator whether to sample from the cubic space\n",
    "    train ~ bool: Indicator whether to use the train indices\n",
    "    valid ~ bool: Indicator whether to use the validation indices\n",
    "    test ~ bool: Indicator whether to use the (non-cubic) test indices\n",
    "    \n",
    "    Returns\n",
    "    --------\n",
    "    sampler ~ Callable: takes in indices and returns data\n",
    "    len_func ~ Callable: zero parameter function that returns the dataset size.\n",
    "    \"\"\"\n",
    "    ##### u, F Builder Functions ######\n",
    "    def gamma(k):\n",
    "        return .01 +.28*k/3\n",
    "              \n",
    "    def build_gaussian(params):\n",
    "        # Just multiplied by sin to get BCs\n",
    "        a, bx, by, c = params\n",
    "        u = lambda x: .01*a*jnp.exp((-(x[0]-bx)**2 - (x[1]-by)**2)/(2*c**2))*jnp.sin(.5*x[0])*jnp.sin(.5*x[1])\n",
    "        F = nlp_operator(u)\n",
    "        Um, Fm = jax.vmap(u), jax.vmap(F)\n",
    "        return Um(coords), Fm(coords)\n",
    "    \n",
    "    def build_cosine(params):\n",
    "        # Actually sines\n",
    "        alpha, betax, betay, _ = params \n",
    "        u = lambda x: .01*alpha*jnp.sin(betax*x[0])*jnp.sin(betay*x[1])\n",
    "        F = nlp_operator(u)\n",
    "        Um, Fm = jax.vmap(u), jax.vmap(F)\n",
    "        return Um(coords), Fm(coords)\n",
    "    \n",
    "    \n",
    "    def build_cubic1(params):\n",
    "        # Moved 0s\n",
    "        kx, ky, _, _ = params\n",
    "        u = lambda x: .01*(kx*(x[0]-jnp.pi)*(x[0]-2*jnp.pi)*x[0] \\\n",
    "                        + ky*(x[1]-jnp.pi)*(x[1]-2*jnp.pi)*x[1])\n",
    "        F = nlp_operator(u)\n",
    "        Um, Fm = jax.vmap(u), jax.vmap(F)\n",
    "        return Um(coords), Fm(coords)\n",
    "    \n",
    "    def build_cubic2(params):\n",
    "        # Moved 0s and removed psi\n",
    "        kx, ky, zetax, zetay = params\n",
    "        u = lambda x: .01*(kx*(x[0]-jnp.pi)*(x[0]-2*jnp.pi)*x[0] + ky*(x[1]-jnp.pi)*(x[1]-2*jnp.pi)*x[1] \\\n",
    "                        + zetax*(x[0]-2*jnp.pi)*x[0] + zetay*(x[1]-2*jnp.pi)*x[1])\n",
    "        F = nlp_operator(u)\n",
    "        Um, Fm = jax.vmap(u), jax.vmap(F)\n",
    "        return Um(coords), Fm(coords)\n",
    "\n",
    "    ##### Actual Sampling functions #####\n",
    "    def get_len():\n",
    "        return len(data)\n",
    "    \n",
    "    def get_item(idx):\n",
    "        sub = data[idx]\n",
    "        func_build, params = sub[0], sub[1:]\n",
    "        u, F = jax.lax.switch(func_build.astype(int), [build_gaussian, build_cosine,\n",
    "                                                      build_cubic1, build_cubic2], params) \n",
    "        return u.reshape(n, n, 1), F.reshape(n, n, 1)\n",
    "    \n",
    "    sample = jax.vmap(get_item)\n",
    "    \n",
    "    # Build shared state for all inner functions\n",
    "    if not cubic:\n",
    "        # Set up Gaussians\n",
    "        a_range = jnp.arange(-25, 26., 5)\n",
    "        b_range = jnp.arange(jnp.pi/3, 5*jnp.pi/3+.01, jnp.pi/3)\n",
    "        c_range = jnp.arange(.1, 5, .2)\n",
    "        gauss_params = [(0.,)+ p for p in product(a_range, b_range, b_range, c_range)]\n",
    "\n",
    "        alpha_range = jnp.arange(1, 10.1, .1)\n",
    "        beta_range = jnp.arange(1, 5.1, .5)\n",
    "        cosine_params = [(1.,)+ p+(0,) \n",
    "                         for p in product(alpha_range, beta_range, beta_range)]\n",
    "\n",
    "        total_params = gauss_params + cosine_params\n",
    "        shuffle(total_params)\n",
    "\n",
    "        # Hard coding the values from the paper even though it's not the same\n",
    "        if train:\n",
    "            data = total_params[:9806]\n",
    "        elif valid:\n",
    "            data = total_params[9806:9806+2452]\n",
    "        else:\n",
    "            data = total_params[9806+2452:]\n",
    "\n",
    "    else:\n",
    "        k = gamma(jnp.array([0, 1, 2, 3]))\n",
    "#         psi = jnp.arange(-5, 6., 1)\n",
    "        zeta = jnp.arange(.01, .26, .6)\n",
    "        cubic1_params = [(2.,) + p+(0,0)\n",
    "                       for p in product(k, k)]\n",
    "        cubic2_params = [(3.,) + p\n",
    "                       for p in product(k, k, zeta, zeta)]\n",
    "        data = cubic1_params + cubic2_params\n",
    "\n",
    "    data = jnp.array(data)\n",
    "    # Build the mesh once and reuse\n",
    "    xx, yy = jnp.meshgrid(jnp.linspace(0, 2*jnp.pi, n), jnp.linspace(0, 2*jnp.pi, n))\n",
    "    coords = jnp.stack([xx, yy], -1).reshape(-1, 2)\n",
    "    \n",
    "    return jax.jit(sample), get_len"
   ]
  },
  {
   "cell_type": "markdown",
   "id": "2c717765",
   "metadata": {
    "id": "2c717765"
   },
   "source": [
    "## Setting up the run"
   ]
  },
  {
   "cell_type": "markdown",
   "id": "7a538548",
   "metadata": {
    "id": "7a538548"
   },
   "source": [
    "Now we'll define the training loops. The paper uses multiple parallel runs and takes the best performing models. This is going to be running on Colab so you are not going to have the hardware for that. Instead, we're just going to train a single model."
   ]
  },
  {
   "cell_type": "code",
   "execution_count": 33,
   "id": "f560cf10",
   "metadata": {
    "id": "f560cf10"
   },
   "outputs": [],
   "source": [
    "@jax.jit\n",
    "def update_params(state, grads):\n",
    "    return state.apply_gradients(grads=grads)\n",
    "\n",
    "        \n",
    "@jax.jit\n",
    "def compute_losses(u, F, u_decoded, F_decoded, Lv_decoded, Linvf_decoded, f, v, Lv, eps=1e-5):\n",
    "    \"\"\" Computes the 6 Normalized MSEs from the paper.\n",
    "    \n",
    "    Note: the use of means instead of sums in computing squared norms is from the paper\n",
    "    code. They also sum over batches. This doesn't matter that much, but it does adjust the weighting a bit, \n",
    "    so we manually re-weight to account for it.\n",
    "    \"\"\"\n",
    "    # Loss 1 - Reconstruction u\n",
    "    loss1 = (((u_decoded - u)**2).mean((1, 2)) / ((u**2).mean((1,2))+eps)).mean()\n",
    "    # Loss 2 - Reconstruction f \n",
    "    loss2 = (((F_decoded - F)**2).mean((1, 2)) / ((F**2).mean((1,2))+eps)).mean()\n",
    "    # Loss 3 - Forward in encoded space - don't love the gradient dynamics of dividing here\n",
    "    loss3 = (((Lv - f)**2).mean(-1) / ((f**2).mean(-1)+eps)).mean()\n",
    "    # Loss 4 - \"Superposition\" loss - seems like it would just change the relative weight of loss 3 \n",
    "    # in a weird non-convex way and penalize the magnitude of the encoded vectors. Doesn't seem like \n",
    "    # a great idea, but it is in the paper\n",
    "    loss4 = 0.\n",
    "    # Loss 5 - Forward operator loss\n",
    "    loss5 = (((Lv_decoded - F)**2).mean((1, 2)) / ((F**2).mean((1,2))+eps)).mean()\n",
    "    # Loss 6 - Backwards operator loss\n",
    "    loss6 = (((Linvf_decoded - u)**2).mean((1, 2)) / ((u**2).mean((1,2))+eps)).mean()\n",
    "    return loss1, loss2, loss3, loss4, loss5, loss6\n",
    "\n",
    "@functools.partial(jax.jit, static_argnums=(0, 2, 4, 5))\n",
    "def train_epoch(model, state, data, perms, num_batches, eval_full=True):\n",
    "    # JIT is touchy around conditionals (the trace notes the first path), so this just says compile\n",
    "    #  again if the conditional changes. \n",
    "    @functools.partial(jax.jit)\n",
    "    def grad_step(state, perm):\n",
    "        def loss_fn(params):\n",
    "            # Run model\n",
    "            u_decoded, F_decoded, Lv_decoded, Linvf_decoded, f, v, Lv = model.apply({'params':params}, batch)\n",
    "            u, F = batch\n",
    "            u, F = u.squeeze(-1), F.squeeze(-1)\n",
    "            loss1, loss2, loss3, loss4, loss5, loss6 = compute_losses(u, F, u_decoded, F_decoded, \n",
    "                                                                      Lv_decoded, Linvf_decoded, f, v, Lv)\n",
    "            # We're keeping all the losses for logging, but the total loss is only the reconstruction\n",
    "            # losses at the beginning of training\n",
    "            if eval_full:\n",
    "                return loss1+loss2+loss3+loss4+loss5+loss6, (loss1, loss2, loss3, loss4, loss5, loss6)\n",
    "            else:\n",
    "                return loss1+loss2, (loss1, loss2, loss3, loss4, loss5, loss6)\n",
    "        \n",
    "        batch = data(perm)\n",
    "        grad_fn = jax.value_and_grad(loss_fn, has_aux=True)\n",
    "        (train_loss, aux_losses), grads = grad_fn(state.params)\n",
    "        state = update_params(state, grads)\n",
    "        return state, aux_losses\n",
    "\n",
    "    # Run actual code - Carries and updates state every batch\n",
    "    # returns final state and accumulated outputs (losses)\n",
    "    state, aux_loss_means = jax.lax.scan(grad_step, state, perms)\n",
    "    return state, [jnp.mean(l) for l in aux_loss_means]   \n",
    "\n",
    "def validation_run(model, state, data, batch_size, num_batches):\n",
    "    # Only difference is we do not compute the gradient and update the state here\n",
    "    @functools.partial(jax.jit)\n",
    "    def exec_step(state, perm):\n",
    "        # Run model\n",
    "        batch = data(perm)\n",
    "        u_decoded, F_decoded, Lv_decoded, Linvf_decoded, f, v, Lv = model.apply({'params':state.params}, batch)\n",
    "        u, F = batch\n",
    "        u, F = u.squeeze(-1), F.squeeze(-1)\n",
    "        loss1, loss2, loss3, loss4, loss5, loss6 = compute_losses(u, F, u_decoded, F_decoded, \n",
    "                                                                  Lv_decoded, Linvf_decoded, f, v, Lv)        \n",
    "        return state, (loss1, loss2, loss3, loss4, loss5, loss6)\n",
    "    perms = jnp.arange(batch_size*num_batches).reshape(num_batches, batch_size)\n",
    "    state, aux_loss_means = jax.lax.scan(exec_step, state, perms)\n",
    "    return aux_loss_means\n",
    "        "
   ]
  },
  {
   "cell_type": "code",
   "execution_count": 34,
   "id": "7592d8eb",
   "metadata": {},
   "outputs": [],
   "source": [
    "# Model run parameters\n",
    "aec_only_epochs = 75\n",
    "full_epochs = 2500\n",
    "batch_size = 64\n",
    "n= 32\n",
    "\n",
    "# Content doesn't matter so we're just chosing a convenient shape\n",
    "init_vals = jnp.array(np.random.uniform(size=(10, n, n, 1)))\n",
    "\n",
    "# JAX's random is kind of a pain, but it makes more sense when you're doing distributed training\n",
    "# which we are not doing here. \n",
    "key = rnd.PRNGKey(0)\n",
    "key, use_key = rnd.split(key, 2)\n",
    "\n",
    "model = GreenNet(n=n)\n",
    "params = model.init(use_key, (init_vals, init_vals))\n",
    "\n",
    "# JAX is a functional framework, but Deep Learning has historically used mostly object oriented libraries.\n",
    "# TrainState is a helper for organizing the model parameters and state so the training loop can be written \n",
    "# more like OOP code.\n",
    "\n",
    "# We're using the AdamW optimizer as the paper uses Adam with weight decay. \n",
    "state = train_state.TrainState.create(apply_fn=model.apply,\n",
    "                                     params = params['params'],\n",
    "                                     tx=optax.adamw(learning_rate=1e-3, weight_decay=1e-6))\n",
    "\n",
    "# Load up on datasets - the len funcs instead of objects were just a mistake\n",
    "train_dataset, train_len_func = NLP_Dataset_Sampler(n=n, batch_size=batch_size)\n",
    "valid_dataset, valid_len_func = NLP_Dataset_Sampler(n=n, batch_size=batch_size, train=False, test=True)\n",
    "test_dataset, test_len_func = NLP_Dataset_Sampler(n=n, batch_size=batch_size, train=False, test=True)\n",
    "cubic_test_dataset, cubic_len_func = NLP_Dataset_Sampler(n=n, batch_size=batch_size, cubic=True)"
   ]
  },
  {
   "cell_type": "markdown",
   "id": "a76d99c6",
   "metadata": {},
   "source": [
    "Before we train the model, let's look in at what functions we're trying to learn:"
   ]
  },
  {
   "cell_type": "code",
   "execution_count": 35,
   "id": "7e413d7f",
   "metadata": {},
   "outputs": [
    {
     "data": {
      "text/plain": [
       "<Figure size 432x432 with 0 Axes>"
      ]
     },
     "metadata": {},
     "output_type": "display_data"
    },
    {
     "data": {
      "image/png": "[encoded data removed]",
      "text/plain": [
       "<Figure size 864x432 with 8 Axes>"
      ]
     },
     "metadata": {
      "needs_background": "light"
     },
     "output_type": "display_data"
    }
   ],
   "source": [
    "u, F = train_dataset(jnp.array([1, 11]))\n",
    "\n",
    "fig = plt.figure(constrained_layout=True, figsize=(6,6))\n",
    "fig, axes = plt.subplots(2, 2, figsize=(12, 6))\n",
    "axes[0][0].set_title('u Values')\n",
    "axes[0][1].set_title('F Values')\n",
    "aa = axes[0][0].imshow(u[0])\n",
    "plt.colorbar(aa, ax=axes[0][0])\n",
    "ab = axes[0][1].imshow(F[0])\n",
    "plt.colorbar(ab, ax=axes[0][1])\n",
    "ac = axes[1][0].imshow(u[1])\n",
    "plt.colorbar(ac, ax=axes[1][0])\n",
    "ad = axes[1][1].imshow(F[1])\n",
    "plt.colorbar(ad, ax=axes[1][1])\n",
    "plt.title('Training Samples')\n",
    "plt.tight_layout()"
   ]
  },
  {
   "cell_type": "markdown",
   "id": "3141216a",
   "metadata": {},
   "source": [
    "These functions seem a bit harder due to varying scales compared to the paper problems, which from observing their \"hardest\" problems by loss, seemed to have generally had forcings and solutions on the same scale. In our case, there might be several orders of magnitude difference between the two. This makes the optimization problem a bit harder as we'd like all of our losses to have similar magnitude, but that's not going to be possible here without careful reweighting. We had to manually scale them down to reduce the magnitude gaps within individual solutions and forcings."
   ]
  },
  {
   "cell_type": "markdown",
   "id": "2c22967a",
   "metadata": {},
   "source": [
    "## Running the Model\n",
    "\n",
    "Now all that's left is training the model. On the colab GPU with $n=128$ (the setting from the paper), this will take far longer than this class. You can either reduce the size (make sure it's a multiple of 16) or try training and skip ahead to the next section where you can use a pre-trained model."
   ]
  },
  {
   "cell_type": "code",
   "execution_count": 36,
   "id": "17671bfd",
   "metadata": {},
   "outputs": [
    {
     "name": "stdout",
     "output_type": "stream",
     "text": [
      "The tensorboard extension is already loaded. To reload it, use:\n",
      "  %reload_ext tensorboard\n"
     ]
    },
    {
     "data": {
      "text/plain": [
       "Reusing TensorBoard on port 6006 (pid 22907), started 0:19:04 ago. (Use '!kill 22907' to kill it.)"
      ]
     },
     "metadata": {},
     "output_type": "display_data"
    },
    {
     "data": {
      "text/html": [
       "\n",
       "      <iframe id=\"tensorboard-frame-2bc03f44ef7492be\" width=\"100%\" height=\"800\" frameborder=\"0\">\n",
       "      </iframe>\n",
       "      <script>\n",
       "        (function() {\n",
       "          const frame = document.getElementById(\"tensorboard-frame-2bc03f44ef7492be\");\n",
       "          const url = new URL(\"/\", window.location);\n",
       "          const port = 6006;\n",
       "          if (port) {\n",
       "            url.port = port;\n",
       "          }\n",
       "          frame.src = url;\n",
       "        })();\n",
       "      </script>\n",
       "    "
      ],
      "text/plain": [
       "<IPython.core.display.HTML object>"
      ]
     },
     "metadata": {},
     "output_type": "display_data"
    }
   ],
   "source": [
    "%load_ext tensorboard\n",
    "%tensorboard --logdir=."
   ]
  },
  {
   "cell_type": "code",
   "execution_count": 37,
   "id": "3f7d96ab",
   "metadata": {
    "colab": {
     "background_save": true,
     "base_uri": "https://localhost:8080/"
    },
    "id": "3f7d96ab",
    "outputId": "6ba0e227-d59d-4c74-fbdf-60cfef8b5f72",
    "scrolled": false
   },
   "outputs": [
    {
     "name": "stdout",
     "output_type": "stream",
     "text": [
      "0 [DeviceArray(0.4261202, dtype=float32), DeviceArray(0.3129032, dtype=float32), DeviceArray(1.5759465, dtype=float32), DeviceArray(0., dtype=float32), DeviceArray(1.0771992, dtype=float32), DeviceArray(161.54889, dtype=float32)]\n",
      "1 [DeviceArray(0.03226293, dtype=float32), DeviceArray(0.04709037, dtype=float32), DeviceArray(1.605792, dtype=float32), DeviceArray(0., dtype=float32), DeviceArray(1.0852604, dtype=float32), DeviceArray(268.3628, dtype=float32)]\n",
      "2 [DeviceArray(0.01624302, dtype=float32), DeviceArray(0.03771617, dtype=float32), DeviceArray(1.5835305, dtype=float32), DeviceArray(0., dtype=float32), DeviceArray(1.0706524, dtype=float32), DeviceArray(269.591, dtype=float32)]\n",
      "3 [DeviceArray(0.01290627, dtype=float32), DeviceArray(0.02983182, dtype=float32), DeviceArray(1.6126096, dtype=float32), DeviceArray(0., dtype=float32), DeviceArray(1.0740658, dtype=float32), DeviceArray(270.28397, dtype=float32)]\n",
      "4 [DeviceArray(0.01386654, dtype=float32), DeviceArray(0.02854812, dtype=float32), DeviceArray(1.7755259, dtype=float32), DeviceArray(0., dtype=float32), DeviceArray(1.1140454, dtype=float32), DeviceArray(271.7374, dtype=float32)]\n",
      "5 [DeviceArray(0.00750216, dtype=float32), DeviceArray(0.02934509, dtype=float32), DeviceArray(1.7449367, dtype=float32), DeviceArray(0., dtype=float32), DeviceArray(1.1197349, dtype=float32), DeviceArray(271.63022, dtype=float32)]\n",
      "6 [DeviceArray(0.00616016, dtype=float32), DeviceArray(0.02360259, dtype=float32), DeviceArray(1.7358143, dtype=float32), DeviceArray(0., dtype=float32), DeviceArray(1.1215776, dtype=float32), DeviceArray(272.36368, dtype=float32)]\n",
      "7 [DeviceArray(0.00759654, dtype=float32), DeviceArray(0.02611109, dtype=float32), DeviceArray(1.6469651, dtype=float32), DeviceArray(0., dtype=float32), DeviceArray(1.1027906, dtype=float32), DeviceArray(272.5978, dtype=float32)]\n",
      "8 [DeviceArray(0.00646371, dtype=float32), DeviceArray(0.03777626, dtype=float32), DeviceArray(1.677369, dtype=float32), DeviceArray(0., dtype=float32), DeviceArray(1.0933692, dtype=float32), DeviceArray(272.26926, dtype=float32)]\n",
      "9 [DeviceArray(0.00519486, dtype=float32), DeviceArray(0.02244007, dtype=float32), DeviceArray(1.5896728, dtype=float32), DeviceArray(0., dtype=float32), DeviceArray(1.076547, dtype=float32), DeviceArray(272.86615, dtype=float32)]\n",
      "10 [DeviceArray(0.00589305, dtype=float32), DeviceArray(0.02058486, dtype=float32), DeviceArray(1.612084, dtype=float32), DeviceArray(0., dtype=float32), DeviceArray(1.0834336, dtype=float32), DeviceArray(273.68573, dtype=float32)]\n",
      "11 [DeviceArray(0.01033185, dtype=float32), DeviceArray(0.02000755, dtype=float32), DeviceArray(1.795681, dtype=float32), DeviceArray(0., dtype=float32), DeviceArray(1.1259251, dtype=float32), DeviceArray(273.7682, dtype=float32)]\n",
      "12 [DeviceArray(0.00510135, dtype=float32), DeviceArray(0.01948043, dtype=float32), DeviceArray(1.8314626, dtype=float32), DeviceArray(0., dtype=float32), DeviceArray(1.1361588, dtype=float32), DeviceArray(274.7548, dtype=float32)]\n",
      "13 [DeviceArray(0.00387242, dtype=float32), DeviceArray(0.01913592, dtype=float32), DeviceArray(1.7658616, dtype=float32), DeviceArray(0., dtype=float32), DeviceArray(1.1160057, dtype=float32), DeviceArray(275.20657, dtype=float32)]\n",
      "14 [DeviceArray(0.00428994, dtype=float32), DeviceArray(0.02366587, dtype=float32), DeviceArray(1.5952656, dtype=float32), DeviceArray(0., dtype=float32), DeviceArray(1.088799, dtype=float32), DeviceArray(276.17044, dtype=float32)]\n",
      "15 [DeviceArray(0.00423962, dtype=float32), DeviceArray(0.01979632, dtype=float32), DeviceArray(1.4515691, dtype=float32), DeviceArray(0., dtype=float32), DeviceArray(1.0821916, dtype=float32), DeviceArray(276.26038, dtype=float32)]\n",
      "16 [DeviceArray(0.00555125, dtype=float32), DeviceArray(0.01824491, dtype=float32), DeviceArray(1.5117995, dtype=float32), DeviceArray(0., dtype=float32), DeviceArray(1.0845524, dtype=float32), DeviceArray(278.29498, dtype=float32)]\n",
      "17 [DeviceArray(0.00421334, dtype=float32), DeviceArray(0.01733358, dtype=float32), DeviceArray(1.5976913, dtype=float32), DeviceArray(0., dtype=float32), DeviceArray(1.0973802, dtype=float32), DeviceArray(279.6753, dtype=float32)]\n",
      "18 [DeviceArray(0.00504356, dtype=float32), DeviceArray(0.01736276, dtype=float32), DeviceArray(1.5660735, dtype=float32), DeviceArray(0., dtype=float32), DeviceArray(1.073791, dtype=float32), DeviceArray(283.97812, dtype=float32)]\n",
      "19 [DeviceArray(0.00535296, dtype=float32), DeviceArray(0.01595623, dtype=float32), DeviceArray(1.6530474, dtype=float32), DeviceArray(0., dtype=float32), DeviceArray(1.0874472, dtype=float32), DeviceArray(286.38895, dtype=float32)]\n",
      "20 [DeviceArray(0.00344109, dtype=float32), DeviceArray(0.01440293, dtype=float32), DeviceArray(1.576376, dtype=float32), DeviceArray(0., dtype=float32), DeviceArray(1.0669179, dtype=float32), DeviceArray(291.21463, dtype=float32)]\n",
      "21 [DeviceArray(0.00314289, dtype=float32), DeviceArray(0.01301447, dtype=float32), DeviceArray(1.4411232, dtype=float32), DeviceArray(0., dtype=float32), DeviceArray(1.0478448, dtype=float32), DeviceArray(296.60056, dtype=float32)]\n",
      "22 [DeviceArray(0.0046487, dtype=float32), DeviceArray(0.01233219, dtype=float32), DeviceArray(1.4209906, dtype=float32), DeviceArray(0., dtype=float32), DeviceArray(1.0427322, dtype=float32), DeviceArray(301.07812, dtype=float32)]\n",
      "23 [DeviceArray(0.00352225, dtype=float32), DeviceArray(0.00897834, dtype=float32), DeviceArray(1.4109881, dtype=float32), DeviceArray(0., dtype=float32), DeviceArray(1.0366532, dtype=float32), DeviceArray(305.4859, dtype=float32)]\n",
      "24 [DeviceArray(0.00327749, dtype=float32), DeviceArray(0.00690864, dtype=float32), DeviceArray(1.3835641, dtype=float32), DeviceArray(0., dtype=float32), DeviceArray(1.0256425, dtype=float32), DeviceArray(308.5203, dtype=float32)]\n",
      "25 [DeviceArray(0.00431632, dtype=float32), DeviceArray(0.05250655, dtype=float32), DeviceArray(1.2233456, dtype=float32), DeviceArray(0., dtype=float32), DeviceArray(0.99965435, dtype=float32), DeviceArray(304.2848, dtype=float32)]\n",
      "26 [DeviceArray(0.00923544, dtype=float32), DeviceArray(0.01134558, dtype=float32), DeviceArray(1.1125548, dtype=float32), DeviceArray(0., dtype=float32), DeviceArray(0.96098775, dtype=float32), DeviceArray(309.55417, dtype=float32)]\n",
      "27 [DeviceArray(0.00650575, dtype=float32), DeviceArray(0.00658937, dtype=float32), DeviceArray(1.1963907, dtype=float32), DeviceArray(0., dtype=float32), DeviceArray(0.9851989, dtype=float32), DeviceArray(312.22775, dtype=float32)]\n",
      "28 [DeviceArray(0.00255662, dtype=float32), DeviceArray(0.00517655, dtype=float32), DeviceArray(1.2023759, dtype=float32), DeviceArray(0., dtype=float32), DeviceArray(0.98799324, dtype=float32), DeviceArray(313.55417, dtype=float32)]\n",
      "29 [DeviceArray(0.00242405, dtype=float32), DeviceArray(0.00492712, dtype=float32), DeviceArray(1.2059879, dtype=float32), DeviceArray(0., dtype=float32), DeviceArray(0.9886739, dtype=float32), DeviceArray(313.13055, dtype=float32)]\n",
      "30 [DeviceArray(0.00238621, dtype=float32), DeviceArray(0.00458402, dtype=float32), DeviceArray(1.2087351, dtype=float32), DeviceArray(0., dtype=float32), DeviceArray(0.9877737, dtype=float32), DeviceArray(312.32986, dtype=float32)]\n",
      "31 [DeviceArray(0.00274006, dtype=float32), DeviceArray(0.00414181, dtype=float32), DeviceArray(1.2123909, dtype=float32), DeviceArray(0., dtype=float32), DeviceArray(0.9884562, dtype=float32), DeviceArray(315.3494, dtype=float32)]\n",
      "32 [DeviceArray(0.00256824, dtype=float32), DeviceArray(0.00389088, dtype=float32), DeviceArray(1.2210017, dtype=float32), DeviceArray(0., dtype=float32), DeviceArray(0.9899739, dtype=float32), DeviceArray(315.29156, dtype=float32)]\n",
      "33 [DeviceArray(0.00261486, dtype=float32), DeviceArray(0.00404088, dtype=float32), DeviceArray(1.2208651, dtype=float32), DeviceArray(0., dtype=float32), DeviceArray(0.9871715, dtype=float32), DeviceArray(314.82822, dtype=float32)]\n",
      "34 [DeviceArray(0.00290132, dtype=float32), DeviceArray(0.00398385, dtype=float32), DeviceArray(1.2441231, dtype=float32), DeviceArray(0., dtype=float32), DeviceArray(0.9916186, dtype=float32), DeviceArray(315.5946, dtype=float32)]\n",
      "35 [DeviceArray(0.0037593, dtype=float32), DeviceArray(0.00374448, dtype=float32), DeviceArray(1.3087478, dtype=float32), DeviceArray(0., dtype=float32), DeviceArray(1.0055438, dtype=float32), DeviceArray(315.58932, dtype=float32)]\n"
     ]
    },
    {
     "name": "stdout",
     "output_type": "stream",
     "text": [
      "36 [DeviceArray(0.00313713, dtype=float32), DeviceArray(0.00430893, dtype=float32), DeviceArray(1.3039116, dtype=float32), DeviceArray(0., dtype=float32), DeviceArray(1.0029007, dtype=float32), DeviceArray(316.4917, dtype=float32)]\n",
      "37 [DeviceArray(0.00280259, dtype=float32), DeviceArray(0.0033919, dtype=float32), DeviceArray(1.3214304, dtype=float32), DeviceArray(0., dtype=float32), DeviceArray(1.0023143, dtype=float32), DeviceArray(315.74054, dtype=float32)]\n",
      "38 [DeviceArray(0.00386949, dtype=float32), DeviceArray(0.00312827, dtype=float32), DeviceArray(1.3926713, dtype=float32), DeviceArray(0., dtype=float32), DeviceArray(1.0149574, dtype=float32), DeviceArray(315.4901, dtype=float32)]\n",
      "39 [DeviceArray(0.00468943, dtype=float32), DeviceArray(0.00346468, dtype=float32), DeviceArray(1.5026493, dtype=float32), DeviceArray(0., dtype=float32), DeviceArray(1.0351148, dtype=float32), DeviceArray(315.0604, dtype=float32)]\n",
      "40 [DeviceArray(0.00227367, dtype=float32), DeviceArray(0.0030922, dtype=float32), DeviceArray(1.4589362, dtype=float32), DeviceArray(0., dtype=float32), DeviceArray(1.0237014, dtype=float32), DeviceArray(316.7254, dtype=float32)]\n",
      "41 [DeviceArray(0.0023429, dtype=float32), DeviceArray(0.00336166, dtype=float32), DeviceArray(1.4513037, dtype=float32), DeviceArray(0., dtype=float32), DeviceArray(1.0196426, dtype=float32), DeviceArray(316.4312, dtype=float32)]\n",
      "42 [DeviceArray(0.00359899, dtype=float32), DeviceArray(0.00563612, dtype=float32), DeviceArray(1.4210628, dtype=float32), DeviceArray(0., dtype=float32), DeviceArray(1.0038438, dtype=float32), DeviceArray(317.0596, dtype=float32)]\n",
      "43 [DeviceArray(0.00283831, dtype=float32), DeviceArray(0.00287609, dtype=float32), DeviceArray(1.4788328, dtype=float32), DeviceArray(0., dtype=float32), DeviceArray(1.0199839, dtype=float32), DeviceArray(316.8571, dtype=float32)]\n",
      "44 [DeviceArray(0.00262413, dtype=float32), DeviceArray(0.00279983, dtype=float32), DeviceArray(1.4485831, dtype=float32), DeviceArray(0., dtype=float32), DeviceArray(1.0139585, dtype=float32), DeviceArray(317.98065, dtype=float32)]\n"
     ]
    },
    {
     "ename": "KeyboardInterrupt",
     "evalue": "",
     "output_type": "error",
     "traceback": [
      "\u001b[0;31m---------------------------------------------------------------------------\u001b[0m",
      "\u001b[0;31mKeyboardInterrupt\u001b[0m                         Traceback (most recent call last)",
      "\u001b[0;32m/tmp/ipykernel_21229/2303792617.py\u001b[0m in \u001b[0;36m<module>\u001b[0;34m\u001b[0m\n\u001b[1;32m     22\u001b[0m \u001b[0;34m\u001b[0m\u001b[0m\n\u001b[1;32m     23\u001b[0m     \u001b[0;31m# Check the validation set\u001b[0m\u001b[0;34m\u001b[0m\u001b[0;34m\u001b[0m\u001b[0m\n\u001b[0;32m---> 24\u001b[0;31m     \u001b[0mvalid_losses\u001b[0m \u001b[0;34m=\u001b[0m \u001b[0mvalidation_run\u001b[0m\u001b[0;34m(\u001b[0m\u001b[0mmodel\u001b[0m\u001b[0;34m,\u001b[0m \u001b[0mstate\u001b[0m\u001b[0;34m,\u001b[0m \u001b[0mvalid_dataset\u001b[0m\u001b[0;34m,\u001b[0m \u001b[0mvalid_bs\u001b[0m\u001b[0;34m,\u001b[0m \u001b[0mvalid_nbatches\u001b[0m\u001b[0;34m)\u001b[0m\u001b[0;34m\u001b[0m\u001b[0;34m\u001b[0m\u001b[0m\n\u001b[0m\u001b[1;32m     25\u001b[0m \u001b[0;34m\u001b[0m\u001b[0m\n\u001b[1;32m     26\u001b[0m     \u001b[0mprint\u001b[0m\u001b[0;34m(\u001b[0m\u001b[0mi\u001b[0m\u001b[0;34m,\u001b[0m \u001b[0mtrain_loss\u001b[0m\u001b[0;34m)\u001b[0m\u001b[0;34m\u001b[0m\u001b[0;34m\u001b[0m\u001b[0m\n",
      "\u001b[0;32m/tmp/ipykernel_21229/121252758.py\u001b[0m in \u001b[0;36mvalidation_run\u001b[0;34m(model, state, data, batch_size, num_batches)\u001b[0m\n\u001b[1;32m     72\u001b[0m         \u001b[0;32mreturn\u001b[0m \u001b[0mstate\u001b[0m\u001b[0;34m,\u001b[0m \u001b[0;34m(\u001b[0m\u001b[0mloss1\u001b[0m\u001b[0;34m,\u001b[0m \u001b[0mloss2\u001b[0m\u001b[0;34m,\u001b[0m \u001b[0mloss3\u001b[0m\u001b[0;34m,\u001b[0m \u001b[0mloss4\u001b[0m\u001b[0;34m,\u001b[0m \u001b[0mloss5\u001b[0m\u001b[0;34m,\u001b[0m \u001b[0mloss6\u001b[0m\u001b[0;34m)\u001b[0m\u001b[0;34m\u001b[0m\u001b[0;34m\u001b[0m\u001b[0m\n\u001b[1;32m     73\u001b[0m     \u001b[0mperms\u001b[0m \u001b[0;34m=\u001b[0m \u001b[0mjnp\u001b[0m\u001b[0;34m.\u001b[0m\u001b[0marange\u001b[0m\u001b[0;34m(\u001b[0m\u001b[0mbatch_size\u001b[0m\u001b[0;34m*\u001b[0m\u001b[0mnum_batches\u001b[0m\u001b[0;34m)\u001b[0m\u001b[0;34m.\u001b[0m\u001b[0mreshape\u001b[0m\u001b[0;34m(\u001b[0m\u001b[0mnum_batches\u001b[0m\u001b[0;34m,\u001b[0m \u001b[0mbatch_size\u001b[0m\u001b[0;34m)\u001b[0m\u001b[0;34m\u001b[0m\u001b[0;34m\u001b[0m\u001b[0m\n\u001b[0;32m---> 74\u001b[0;31m     \u001b[0mstate\u001b[0m\u001b[0;34m,\u001b[0m \u001b[0maux_loss_means\u001b[0m \u001b[0;34m=\u001b[0m \u001b[0mjax\u001b[0m\u001b[0;34m.\u001b[0m\u001b[0mlax\u001b[0m\u001b[0;34m.\u001b[0m\u001b[0mscan\u001b[0m\u001b[0;34m(\u001b[0m\u001b[0mexec_step\u001b[0m\u001b[0;34m,\u001b[0m \u001b[0mstate\u001b[0m\u001b[0;34m,\u001b[0m \u001b[0mperms\u001b[0m\u001b[0;34m)\u001b[0m\u001b[0;34m\u001b[0m\u001b[0;34m\u001b[0m\u001b[0m\n\u001b[0m\u001b[1;32m     75\u001b[0m     \u001b[0;32mreturn\u001b[0m \u001b[0maux_loss_means\u001b[0m\u001b[0;34m\u001b[0m\u001b[0;34m\u001b[0m\u001b[0m\n\u001b[1;32m     76\u001b[0m \u001b[0;34m\u001b[0m\u001b[0m\n",
      "    \u001b[0;31m[... skipping hidden 1 frame]\u001b[0m\n",
      "\u001b[0;32m~/anaconda3/lib/python3.9/site-packages/jax/_src/lax/control_flow.py\u001b[0m in \u001b[0;36mscan\u001b[0;34m(f, init, xs, length, reverse, unroll)\u001b[0m\n\u001b[1;32m   1633\u001b[0m                         init_tree, carry_avals)\n\u001b[1;32m   1634\u001b[0m \u001b[0;34m\u001b[0m\u001b[0m\n\u001b[0;32m-> 1635\u001b[0;31m   out = scan_p.bind(*consts, *in_flat,\n\u001b[0m\u001b[1;32m   1636\u001b[0m                     \u001b[0mreverse\u001b[0m\u001b[0;34m=\u001b[0m\u001b[0mreverse\u001b[0m\u001b[0;34m,\u001b[0m \u001b[0mlength\u001b[0m\u001b[0;34m=\u001b[0m\u001b[0mlength\u001b[0m\u001b[0;34m,\u001b[0m \u001b[0mjaxpr\u001b[0m\u001b[0;34m=\u001b[0m\u001b[0mjaxpr\u001b[0m\u001b[0;34m,\u001b[0m\u001b[0;34m\u001b[0m\u001b[0;34m\u001b[0m\u001b[0m\n\u001b[1;32m   1637\u001b[0m                     \u001b[0mnum_consts\u001b[0m\u001b[0;34m=\u001b[0m\u001b[0mlen\u001b[0m\u001b[0;34m(\u001b[0m\u001b[0mconsts\u001b[0m\u001b[0;34m)\u001b[0m\u001b[0;34m,\u001b[0m \u001b[0mnum_carry\u001b[0m\u001b[0;34m=\u001b[0m\u001b[0mlen\u001b[0m\u001b[0;34m(\u001b[0m\u001b[0minit_flat\u001b[0m\u001b[0;34m)\u001b[0m\u001b[0;34m,\u001b[0m\u001b[0;34m\u001b[0m\u001b[0;34m\u001b[0m\u001b[0m\n",
      "\u001b[0;32m~/anaconda3/lib/python3.9/site-packages/jax/_src/lax/control_flow.py\u001b[0m in \u001b[0;36mscan_bind\u001b[0;34m(*args, **params)\u001b[0m\n\u001b[1;32m   2210\u001b[0m     \u001b[0m_scan_typecheck\u001b[0m\u001b[0;34m(\u001b[0m\u001b[0;32mTrue\u001b[0m\u001b[0;34m,\u001b[0m \u001b[0;34m*\u001b[0m\u001b[0mavals\u001b[0m\u001b[0;34m,\u001b[0m \u001b[0;34m**\u001b[0m\u001b[0mparams\u001b[0m\u001b[0;34m)\u001b[0m\u001b[0;34m\u001b[0m\u001b[0;34m\u001b[0m\u001b[0m\n\u001b[1;32m   2211\u001b[0m     \u001b[0mcore\u001b[0m\u001b[0;34m.\u001b[0m\u001b[0mcheck_jaxpr\u001b[0m\u001b[0;34m(\u001b[0m\u001b[0mparams\u001b[0m\u001b[0;34m[\u001b[0m\u001b[0;34m'jaxpr'\u001b[0m\u001b[0;34m]\u001b[0m\u001b[0;34m.\u001b[0m\u001b[0mjaxpr\u001b[0m\u001b[0;34m)\u001b[0m\u001b[0;34m\u001b[0m\u001b[0;34m\u001b[0m\u001b[0m\n\u001b[0;32m-> 2212\u001b[0;31m   \u001b[0;32mreturn\u001b[0m \u001b[0mcore\u001b[0m\u001b[0;34m.\u001b[0m\u001b[0mAxisPrimitive\u001b[0m\u001b[0;34m.\u001b[0m\u001b[0mbind\u001b[0m\u001b[0;34m(\u001b[0m\u001b[0mscan_p\u001b[0m\u001b[0;34m,\u001b[0m \u001b[0;34m*\u001b[0m\u001b[0margs\u001b[0m\u001b[0;34m,\u001b[0m \u001b[0;34m**\u001b[0m\u001b[0mparams\u001b[0m\u001b[0;34m)\u001b[0m\u001b[0;34m\u001b[0m\u001b[0;34m\u001b[0m\u001b[0m\n\u001b[0m\u001b[1;32m   2213\u001b[0m \u001b[0;34m\u001b[0m\u001b[0m\n\u001b[1;32m   2214\u001b[0m \u001b[0mscan_p\u001b[0m \u001b[0;34m=\u001b[0m \u001b[0mcore\u001b[0m\u001b[0;34m.\u001b[0m\u001b[0mAxisPrimitive\u001b[0m\u001b[0;34m(\u001b[0m\u001b[0;34m\"scan\"\u001b[0m\u001b[0;34m)\u001b[0m\u001b[0;34m\u001b[0m\u001b[0;34m\u001b[0m\u001b[0m\n",
      "\u001b[0;32m~/anaconda3/lib/python3.9/site-packages/jax/core.py\u001b[0m in \u001b[0;36mbind\u001b[0;34m(self, *args, **params)\u001b[0m\n\u001b[1;32m   2039\u001b[0m     top_trace = (top_trace if not axis_main or axis_main.level < top_trace.level\n\u001b[1;32m   2040\u001b[0m                  else axis_main.with_cur_sublevel())\n\u001b[0;32m-> 2041\u001b[0;31m     \u001b[0;32mreturn\u001b[0m \u001b[0mself\u001b[0m\u001b[0;34m.\u001b[0m\u001b[0mbind_with_trace\u001b[0m\u001b[0;34m(\u001b[0m\u001b[0mtop_trace\u001b[0m\u001b[0;34m,\u001b[0m \u001b[0margs\u001b[0m\u001b[0;34m,\u001b[0m \u001b[0mparams\u001b[0m\u001b[0;34m)\u001b[0m\u001b[0;34m\u001b[0m\u001b[0;34m\u001b[0m\u001b[0m\n\u001b[0m\u001b[1;32m   2042\u001b[0m \u001b[0;34m\u001b[0m\u001b[0m\n\u001b[1;32m   2043\u001b[0m \u001b[0;34m\u001b[0m\u001b[0m\n",
      "\u001b[0;32m~/anaconda3/lib/python3.9/site-packages/jax/core.py\u001b[0m in \u001b[0;36mbind_with_trace\u001b[0;34m(self, trace, args, params)\u001b[0m\n\u001b[1;32m    280\u001b[0m \u001b[0;34m\u001b[0m\u001b[0m\n\u001b[1;32m    281\u001b[0m   \u001b[0;32mdef\u001b[0m \u001b[0mbind_with_trace\u001b[0m\u001b[0;34m(\u001b[0m\u001b[0mself\u001b[0m\u001b[0;34m,\u001b[0m \u001b[0mtrace\u001b[0m\u001b[0;34m,\u001b[0m \u001b[0margs\u001b[0m\u001b[0;34m,\u001b[0m \u001b[0mparams\u001b[0m\u001b[0;34m)\u001b[0m\u001b[0;34m:\u001b[0m\u001b[0;34m\u001b[0m\u001b[0;34m\u001b[0m\u001b[0m\n\u001b[0;32m--> 282\u001b[0;31m     \u001b[0mout\u001b[0m \u001b[0;34m=\u001b[0m \u001b[0mtrace\u001b[0m\u001b[0;34m.\u001b[0m\u001b[0mprocess_primitive\u001b[0m\u001b[0;34m(\u001b[0m\u001b[0mself\u001b[0m\u001b[0;34m,\u001b[0m \u001b[0mmap\u001b[0m\u001b[0;34m(\u001b[0m\u001b[0mtrace\u001b[0m\u001b[0;34m.\u001b[0m\u001b[0mfull_raise\u001b[0m\u001b[0;34m,\u001b[0m \u001b[0margs\u001b[0m\u001b[0;34m)\u001b[0m\u001b[0;34m,\u001b[0m \u001b[0mparams\u001b[0m\u001b[0;34m)\u001b[0m\u001b[0;34m\u001b[0m\u001b[0;34m\u001b[0m\u001b[0m\n\u001b[0m\u001b[1;32m    283\u001b[0m     \u001b[0;32mreturn\u001b[0m \u001b[0mmap\u001b[0m\u001b[0;34m(\u001b[0m\u001b[0mfull_lower\u001b[0m\u001b[0;34m,\u001b[0m \u001b[0mout\u001b[0m\u001b[0;34m)\u001b[0m \u001b[0;32mif\u001b[0m \u001b[0mself\u001b[0m\u001b[0;34m.\u001b[0m\u001b[0mmultiple_results\u001b[0m \u001b[0;32melse\u001b[0m \u001b[0mfull_lower\u001b[0m\u001b[0;34m(\u001b[0m\u001b[0mout\u001b[0m\u001b[0;34m)\u001b[0m\u001b[0;34m\u001b[0m\u001b[0;34m\u001b[0m\u001b[0m\n\u001b[1;32m    284\u001b[0m \u001b[0;34m\u001b[0m\u001b[0m\n",
      "\u001b[0;32m~/anaconda3/lib/python3.9/site-packages/jax/core.py\u001b[0m in \u001b[0;36mprocess_primitive\u001b[0;34m(self, primitive, tracers, params)\u001b[0m\n\u001b[1;32m    596\u001b[0m \u001b[0;34m\u001b[0m\u001b[0m\n\u001b[1;32m    597\u001b[0m   \u001b[0;32mdef\u001b[0m \u001b[0mprocess_primitive\u001b[0m\u001b[0;34m(\u001b[0m\u001b[0mself\u001b[0m\u001b[0;34m,\u001b[0m \u001b[0mprimitive\u001b[0m\u001b[0;34m,\u001b[0m \u001b[0mtracers\u001b[0m\u001b[0;34m,\u001b[0m \u001b[0mparams\u001b[0m\u001b[0;34m)\u001b[0m\u001b[0;34m:\u001b[0m\u001b[0;34m\u001b[0m\u001b[0;34m\u001b[0m\u001b[0m\n\u001b[0;32m--> 598\u001b[0;31m     \u001b[0;32mreturn\u001b[0m \u001b[0mprimitive\u001b[0m\u001b[0;34m.\u001b[0m\u001b[0mimpl\u001b[0m\u001b[0;34m(\u001b[0m\u001b[0;34m*\u001b[0m\u001b[0mtracers\u001b[0m\u001b[0;34m,\u001b[0m \u001b[0;34m**\u001b[0m\u001b[0mparams\u001b[0m\u001b[0;34m)\u001b[0m\u001b[0;34m\u001b[0m\u001b[0;34m\u001b[0m\u001b[0m\n\u001b[0m\u001b[1;32m    599\u001b[0m \u001b[0;34m\u001b[0m\u001b[0m\n\u001b[1;32m    600\u001b[0m   \u001b[0;32mdef\u001b[0m \u001b[0mprocess_call\u001b[0m\u001b[0;34m(\u001b[0m\u001b[0mself\u001b[0m\u001b[0;34m,\u001b[0m \u001b[0mprimitive\u001b[0m\u001b[0;34m,\u001b[0m \u001b[0mf\u001b[0m\u001b[0;34m,\u001b[0m \u001b[0mtracers\u001b[0m\u001b[0;34m,\u001b[0m \u001b[0mparams\u001b[0m\u001b[0;34m)\u001b[0m\u001b[0;34m:\u001b[0m\u001b[0;34m\u001b[0m\u001b[0;34m\u001b[0m\u001b[0m\n",
      "\u001b[0;32m~/anaconda3/lib/python3.9/site-packages/jax/_src/dispatch.py\u001b[0m in \u001b[0;36mapply_primitive\u001b[0;34m(prim, *args, **params)\u001b[0m\n\u001b[1;32m     90\u001b[0m \u001b[0;32mdef\u001b[0m \u001b[0mapply_primitive\u001b[0m\u001b[0;34m(\u001b[0m\u001b[0mprim\u001b[0m\u001b[0;34m,\u001b[0m \u001b[0;34m*\u001b[0m\u001b[0margs\u001b[0m\u001b[0;34m,\u001b[0m \u001b[0;34m**\u001b[0m\u001b[0mparams\u001b[0m\u001b[0;34m)\u001b[0m\u001b[0;34m:\u001b[0m\u001b[0;34m\u001b[0m\u001b[0;34m\u001b[0m\u001b[0m\n\u001b[1;32m     91\u001b[0m   \u001b[0;34m\"\"\"Impl rule that compiles and runs a single primitive 'prim' using XLA.\"\"\"\u001b[0m\u001b[0;34m\u001b[0m\u001b[0;34m\u001b[0m\u001b[0m\n\u001b[0;32m---> 92\u001b[0;31m   compiled_fun = xla_primitive_callable(prim, *unsafe_map(arg_spec, args),\n\u001b[0m\u001b[1;32m     93\u001b[0m                                         **params)\n\u001b[1;32m     94\u001b[0m   \u001b[0;32mreturn\u001b[0m \u001b[0mcompiled_fun\u001b[0m\u001b[0;34m(\u001b[0m\u001b[0;34m*\u001b[0m\u001b[0margs\u001b[0m\u001b[0;34m)\u001b[0m\u001b[0;34m\u001b[0m\u001b[0;34m\u001b[0m\u001b[0m\n",
      "\u001b[0;32m~/anaconda3/lib/python3.9/site-packages/jax/_src/util.py\u001b[0m in \u001b[0;36mwrapper\u001b[0;34m(*args, **kwargs)\u001b[0m\n\u001b[1;32m    208\u001b[0m         \u001b[0;32mreturn\u001b[0m \u001b[0mf\u001b[0m\u001b[0;34m(\u001b[0m\u001b[0;34m*\u001b[0m\u001b[0margs\u001b[0m\u001b[0;34m,\u001b[0m \u001b[0;34m**\u001b[0m\u001b[0mkwargs\u001b[0m\u001b[0;34m)\u001b[0m\u001b[0;34m\u001b[0m\u001b[0;34m\u001b[0m\u001b[0m\n\u001b[1;32m    209\u001b[0m       \u001b[0;32melse\u001b[0m\u001b[0;34m:\u001b[0m\u001b[0;34m\u001b[0m\u001b[0;34m\u001b[0m\u001b[0m\n\u001b[0;32m--> 210\u001b[0;31m         \u001b[0;32mreturn\u001b[0m \u001b[0mcached\u001b[0m\u001b[0;34m(\u001b[0m\u001b[0mconfig\u001b[0m\u001b[0;34m.\u001b[0m\u001b[0m_trace_context\u001b[0m\u001b[0;34m(\u001b[0m\u001b[0;34m)\u001b[0m\u001b[0;34m,\u001b[0m \u001b[0;34m*\u001b[0m\u001b[0margs\u001b[0m\u001b[0;34m,\u001b[0m \u001b[0;34m**\u001b[0m\u001b[0mkwargs\u001b[0m\u001b[0;34m)\u001b[0m\u001b[0;34m\u001b[0m\u001b[0;34m\u001b[0m\u001b[0m\n\u001b[0m\u001b[1;32m    211\u001b[0m \u001b[0;34m\u001b[0m\u001b[0m\n\u001b[1;32m    212\u001b[0m     \u001b[0mwrapper\u001b[0m\u001b[0;34m.\u001b[0m\u001b[0mcache_clear\u001b[0m \u001b[0;34m=\u001b[0m \u001b[0mcached\u001b[0m\u001b[0;34m.\u001b[0m\u001b[0mcache_clear\u001b[0m\u001b[0;34m\u001b[0m\u001b[0;34m\u001b[0m\u001b[0m\n",
      "\u001b[0;32m~/anaconda3/lib/python3.9/site-packages/jax/_src/util.py\u001b[0m in \u001b[0;36mcached\u001b[0;34m(_, *args, **kwargs)\u001b[0m\n\u001b[1;32m    201\u001b[0m     \u001b[0;34m@\u001b[0m\u001b[0mfunctools\u001b[0m\u001b[0;34m.\u001b[0m\u001b[0mlru_cache\u001b[0m\u001b[0;34m(\u001b[0m\u001b[0mmax_size\u001b[0m\u001b[0;34m)\u001b[0m\u001b[0;34m\u001b[0m\u001b[0;34m\u001b[0m\u001b[0m\n\u001b[1;32m    202\u001b[0m     \u001b[0;32mdef\u001b[0m \u001b[0mcached\u001b[0m\u001b[0;34m(\u001b[0m\u001b[0m_\u001b[0m\u001b[0;34m,\u001b[0m \u001b[0;34m*\u001b[0m\u001b[0margs\u001b[0m\u001b[0;34m,\u001b[0m \u001b[0;34m**\u001b[0m\u001b[0mkwargs\u001b[0m\u001b[0;34m)\u001b[0m\u001b[0;34m:\u001b[0m\u001b[0;34m\u001b[0m\u001b[0;34m\u001b[0m\u001b[0m\n\u001b[0;32m--> 203\u001b[0;31m       \u001b[0;32mreturn\u001b[0m \u001b[0mf\u001b[0m\u001b[0;34m(\u001b[0m\u001b[0;34m*\u001b[0m\u001b[0margs\u001b[0m\u001b[0;34m,\u001b[0m \u001b[0;34m**\u001b[0m\u001b[0mkwargs\u001b[0m\u001b[0;34m)\u001b[0m\u001b[0;34m\u001b[0m\u001b[0;34m\u001b[0m\u001b[0m\n\u001b[0m\u001b[1;32m    204\u001b[0m \u001b[0;34m\u001b[0m\u001b[0m\n\u001b[1;32m    205\u001b[0m     \u001b[0;34m@\u001b[0m\u001b[0mfunctools\u001b[0m\u001b[0;34m.\u001b[0m\u001b[0mwraps\u001b[0m\u001b[0;34m(\u001b[0m\u001b[0mf\u001b[0m\u001b[0;34m)\u001b[0m\u001b[0;34m\u001b[0m\u001b[0;34m\u001b[0m\u001b[0m\n",
      "\u001b[0;32m~/anaconda3/lib/python3.9/site-packages/jax/_src/dispatch.py\u001b[0m in \u001b[0;36mxla_primitive_callable\u001b[0;34m(prim, *arg_specs, **params)\u001b[0m\n\u001b[1;32m    109\u001b[0m     \u001b[0;32melse\u001b[0m\u001b[0;34m:\u001b[0m\u001b[0;34m\u001b[0m\u001b[0;34m\u001b[0m\u001b[0m\n\u001b[1;32m    110\u001b[0m       \u001b[0;32mreturn\u001b[0m \u001b[0mout\u001b[0m\u001b[0;34m,\u001b[0m\u001b[0;34m\u001b[0m\u001b[0;34m\u001b[0m\u001b[0m\n\u001b[0;32m--> 111\u001b[0;31m   compiled = _xla_callable_uncached(lu.wrap_init(prim_fun), device, None,\n\u001b[0m\u001b[1;32m    112\u001b[0m                                     prim.name, donated_invars, *arg_specs)\n\u001b[1;32m    113\u001b[0m   \u001b[0;32mif\u001b[0m \u001b[0;32mnot\u001b[0m \u001b[0mprim\u001b[0m\u001b[0;34m.\u001b[0m\u001b[0mmultiple_results\u001b[0m\u001b[0;34m:\u001b[0m\u001b[0;34m\u001b[0m\u001b[0;34m\u001b[0m\u001b[0m\n",
      "\u001b[0;32m~/anaconda3/lib/python3.9/site-packages/jax/_src/dispatch.py\u001b[0m in \u001b[0;36m_xla_callable_uncached\u001b[0;34m(fun, device, backend, name, donated_invars, *arg_specs)\u001b[0m\n\u001b[1;32m    167\u001b[0m def _xla_callable_uncached(fun: lu.WrappedFun, device, backend, name,\n\u001b[1;32m    168\u001b[0m                            donated_invars, *arg_specs):\n\u001b[0;32m--> 169\u001b[0;31m   return lower_xla_callable(fun, device, backend, name, donated_invars,\n\u001b[0m\u001b[1;32m    170\u001b[0m                             *arg_specs).compile().unsafe_call\n\u001b[1;32m    171\u001b[0m \u001b[0;34m\u001b[0m\u001b[0m\n",
      "\u001b[0;32m~/anaconda3/lib/python3.9/site-packages/jax/_src/profiler.py\u001b[0m in \u001b[0;36mwrapper\u001b[0;34m(*args, **kwargs)\u001b[0m\n\u001b[1;32m    204\u001b[0m   \u001b[0;32mdef\u001b[0m \u001b[0mwrapper\u001b[0m\u001b[0;34m(\u001b[0m\u001b[0;34m*\u001b[0m\u001b[0margs\u001b[0m\u001b[0;34m,\u001b[0m \u001b[0;34m**\u001b[0m\u001b[0mkwargs\u001b[0m\u001b[0;34m)\u001b[0m\u001b[0;34m:\u001b[0m\u001b[0;34m\u001b[0m\u001b[0;34m\u001b[0m\u001b[0m\n\u001b[1;32m    205\u001b[0m     \u001b[0;32mwith\u001b[0m \u001b[0mTraceAnnotation\u001b[0m\u001b[0;34m(\u001b[0m\u001b[0mname\u001b[0m\u001b[0;34m,\u001b[0m \u001b[0;34m**\u001b[0m\u001b[0mdecorator_kwargs\u001b[0m\u001b[0;34m)\u001b[0m\u001b[0;34m:\u001b[0m\u001b[0;34m\u001b[0m\u001b[0;34m\u001b[0m\u001b[0m\n\u001b[0;32m--> 206\u001b[0;31m       \u001b[0;32mreturn\u001b[0m \u001b[0mfunc\u001b[0m\u001b[0;34m(\u001b[0m\u001b[0;34m*\u001b[0m\u001b[0margs\u001b[0m\u001b[0;34m,\u001b[0m \u001b[0;34m**\u001b[0m\u001b[0mkwargs\u001b[0m\u001b[0;34m)\u001b[0m\u001b[0;34m\u001b[0m\u001b[0;34m\u001b[0m\u001b[0m\n\u001b[0m\u001b[1;32m    207\u001b[0m     \u001b[0;32mreturn\u001b[0m \u001b[0mwrapper\u001b[0m\u001b[0;34m\u001b[0m\u001b[0;34m\u001b[0m\u001b[0m\n\u001b[1;32m    208\u001b[0m   \u001b[0;32mreturn\u001b[0m \u001b[0mwrapper\u001b[0m\u001b[0;34m\u001b[0m\u001b[0;34m\u001b[0m\u001b[0m\n",
      "\u001b[0;32m~/anaconda3/lib/python3.9/site-packages/jax/_src/dispatch.py\u001b[0m in \u001b[0;36mlower_xla_callable\u001b[0;34m(fun, device, backend, name, donated_invars, *arg_specs)\u001b[0m\n\u001b[1;32m    256\u001b[0m   \u001b[0mmodule_name\u001b[0m \u001b[0;34m=\u001b[0m \u001b[0;34mf\"jit_{fun.__name__}\"\u001b[0m\u001b[0;34m\u001b[0m\u001b[0;34m\u001b[0m\u001b[0m\n\u001b[1;32m    257\u001b[0m   \u001b[0;32mif\u001b[0m \u001b[0mconfig\u001b[0m\u001b[0;34m.\u001b[0m\u001b[0mjax_enable_mlir\u001b[0m\u001b[0;34m:\u001b[0m\u001b[0;34m\u001b[0m\u001b[0;34m\u001b[0m\u001b[0m\n\u001b[0;32m--> 258\u001b[0;31m     module = mlir.lower_jaxpr_to_module(\n\u001b[0m\u001b[1;32m    259\u001b[0m         \u001b[0mmodule_name\u001b[0m\u001b[0;34m,\u001b[0m \u001b[0mclosed_jaxpr\u001b[0m\u001b[0;34m,\u001b[0m \u001b[0mbackend\u001b[0m\u001b[0;34m.\u001b[0m\u001b[0mplatform\u001b[0m\u001b[0;34m,\u001b[0m\u001b[0;34m\u001b[0m\u001b[0;34m\u001b[0m\u001b[0m\n\u001b[1;32m    260\u001b[0m         mlir.ReplicaAxisContext(axis_env), name_stack, donated_invars)\n",
      "\u001b[0;32m~/anaconda3/lib/python3.9/site-packages/jax/interpreters/mlir.py\u001b[0m in \u001b[0;36mlower_jaxpr_to_module\u001b[0;34m(module_name, jaxpr, platform, axis_context, name_stack, donated_args, replicated_args, arg_shardings, result_shardings)\u001b[0m\n\u001b[1;32m    446\u001b[0m         f\"{module_name}.{next(_module_unique_id)}\")\n\u001b[1;32m    447\u001b[0m     \u001b[0;31m# TODO(phawkins): represent units with zero buffers at the runtime level.\u001b[0m\u001b[0;34m\u001b[0m\u001b[0;34m\u001b[0m\u001b[0m\n\u001b[0;32m--> 448\u001b[0;31m     lower_jaxpr_to_fun(\n\u001b[0m\u001b[1;32m    449\u001b[0m         \u001b[0mctx\u001b[0m\u001b[0;34m,\u001b[0m \u001b[0;34m\"main\"\u001b[0m\u001b[0;34m,\u001b[0m \u001b[0mjaxpr\u001b[0m\u001b[0;34m,\u001b[0m \u001b[0mpublic\u001b[0m\u001b[0;34m=\u001b[0m\u001b[0;32mTrue\u001b[0m\u001b[0;34m,\u001b[0m \u001b[0mreplace_units_with_dummy\u001b[0m\u001b[0;34m=\u001b[0m\u001b[0;32mTrue\u001b[0m\u001b[0;34m,\u001b[0m\u001b[0;34m\u001b[0m\u001b[0;34m\u001b[0m\u001b[0m\n\u001b[1;32m    450\u001b[0m         \u001b[0mreplace_tokens_with_dummy\u001b[0m\u001b[0;34m=\u001b[0m\u001b[0;32mTrue\u001b[0m\u001b[0;34m,\u001b[0m \u001b[0mreplicated_args\u001b[0m\u001b[0;34m=\u001b[0m\u001b[0mreplicated_args\u001b[0m\u001b[0;34m,\u001b[0m\u001b[0;34m\u001b[0m\u001b[0;34m\u001b[0m\u001b[0m\n",
      "\u001b[0;32m~/anaconda3/lib/python3.9/site-packages/jax/interpreters/mlir.py\u001b[0m in \u001b[0;36mlower_jaxpr_to_fun\u001b[0;34m(ctx, name, jaxpr, public, replace_units_with_dummy, replace_tokens_with_dummy, replicated_args, arg_shardings, result_shardings, input_output_aliases)\u001b[0m\n\u001b[1;32m    591\u001b[0m     callee_name_stack = xla.extend_name_stack(ctx.name_stack,\n\u001b[1;32m    592\u001b[0m                                               xla.wrap_name(name, 'jit'))\n\u001b[0;32m--> 593\u001b[0;31m     out_vals = jaxpr_subcomp(ctx.replace(name_stack=callee_name_stack),\n\u001b[0m\u001b[1;32m    594\u001b[0m                              \u001b[0mjaxpr\u001b[0m\u001b[0;34m.\u001b[0m\u001b[0mjaxpr\u001b[0m\u001b[0;34m,\u001b[0m \u001b[0mmap\u001b[0m\u001b[0;34m(\u001b[0m\u001b[0mir_constants\u001b[0m\u001b[0;34m,\u001b[0m \u001b[0mjaxpr\u001b[0m\u001b[0;34m.\u001b[0m\u001b[0mconsts\u001b[0m\u001b[0;34m)\u001b[0m\u001b[0;34m,\u001b[0m\u001b[0;34m\u001b[0m\u001b[0;34m\u001b[0m\u001b[0m\n\u001b[1;32m    595\u001b[0m                              *args)\n",
      "\u001b[0;32m~/anaconda3/lib/python3.9/site-packages/jax/interpreters/mlir.py\u001b[0m in \u001b[0;36mjaxpr_subcomp\u001b[0;34m(ctx, jaxpr, consts, *args)\u001b[0m\n\u001b[1;32m    677\u001b[0m           \u001b[0mmodule_context\u001b[0m\u001b[0;34m=\u001b[0m\u001b[0mctx\u001b[0m\u001b[0;34m,\u001b[0m \u001b[0mprimitive\u001b[0m\u001b[0;34m=\u001b[0m\u001b[0meqn\u001b[0m\u001b[0;34m.\u001b[0m\u001b[0mprimitive\u001b[0m\u001b[0;34m,\u001b[0m\u001b[0;34m\u001b[0m\u001b[0;34m\u001b[0m\u001b[0m\n\u001b[1;32m    678\u001b[0m           avals_in=map(aval, eqn.invars), avals_out=map(aval, eqn.outvars))\n\u001b[0;32m--> 679\u001b[0;31m       ans = rule(rule_ctx, *map(_unwrap_singleton_ir_values, in_nodes),\n\u001b[0m\u001b[1;32m    680\u001b[0m                  **eqn.params)\n\u001b[1;32m    681\u001b[0m \u001b[0;34m\u001b[0m\u001b[0m\n",
      "\u001b[0;32m~/anaconda3/lib/python3.9/site-packages/jax/interpreters/mlir.py\u001b[0m in \u001b[0;36mf_lowered\u001b[0;34m(ctx, *args, **params)\u001b[0m\n\u001b[1;32m    712\u001b[0m     \u001b[0;32mwith\u001b[0m \u001b[0mcore\u001b[0m\u001b[0;34m.\u001b[0m\u001b[0mextend_axis_env_nd\u001b[0m\u001b[0;34m(\u001b[0m\u001b[0mzip\u001b[0m\u001b[0;34m(\u001b[0m\u001b[0maxis_env\u001b[0m\u001b[0;34m.\u001b[0m\u001b[0mnames\u001b[0m\u001b[0;34m,\u001b[0m \u001b[0maxis_env\u001b[0m\u001b[0;34m.\u001b[0m\u001b[0msizes\u001b[0m\u001b[0;34m)\u001b[0m\u001b[0;34m)\u001b[0m\u001b[0;34m:\u001b[0m\u001b[0;34m\u001b[0m\u001b[0;34m\u001b[0m\u001b[0m\n\u001b[1;32m    713\u001b[0m       \u001b[0mjaxpr\u001b[0m\u001b[0;34m,\u001b[0m \u001b[0m_\u001b[0m\u001b[0;34m,\u001b[0m \u001b[0mconsts\u001b[0m \u001b[0;34m=\u001b[0m \u001b[0mpe\u001b[0m\u001b[0;34m.\u001b[0m\u001b[0mtrace_to_jaxpr_dynamic\u001b[0m\u001b[0;34m(\u001b[0m\u001b[0mwrapped_fun\u001b[0m\u001b[0;34m,\u001b[0m \u001b[0mctx\u001b[0m\u001b[0;34m.\u001b[0m\u001b[0mavals_in\u001b[0m\u001b[0;34m)\u001b[0m\u001b[0;34m\u001b[0m\u001b[0;34m\u001b[0m\u001b[0m\n\u001b[0;32m--> 714\u001b[0;31m     return jaxpr_subcomp(ctx.module_context, jaxpr, _ir_consts(consts),\n\u001b[0m\u001b[1;32m    715\u001b[0m                          *map(wrap_singleton_ir_values, args))\n\u001b[1;32m    716\u001b[0m \u001b[0;34m\u001b[0m\u001b[0m\n",
      "\u001b[0;32m~/anaconda3/lib/python3.9/site-packages/jax/interpreters/mlir.py\u001b[0m in \u001b[0;36mjaxpr_subcomp\u001b[0;34m(ctx, jaxpr, consts, *args)\u001b[0m\n\u001b[1;32m    677\u001b[0m           \u001b[0mmodule_context\u001b[0m\u001b[0;34m=\u001b[0m\u001b[0mctx\u001b[0m\u001b[0;34m,\u001b[0m \u001b[0mprimitive\u001b[0m\u001b[0;34m=\u001b[0m\u001b[0meqn\u001b[0m\u001b[0;34m.\u001b[0m\u001b[0mprimitive\u001b[0m\u001b[0;34m,\u001b[0m\u001b[0;34m\u001b[0m\u001b[0;34m\u001b[0m\u001b[0m\n\u001b[1;32m    678\u001b[0m           avals_in=map(aval, eqn.invars), avals_out=map(aval, eqn.outvars))\n\u001b[0;32m--> 679\u001b[0;31m       ans = rule(rule_ctx, *map(_unwrap_singleton_ir_values, in_nodes),\n\u001b[0m\u001b[1;32m    680\u001b[0m                  **eqn.params)\n\u001b[1;32m    681\u001b[0m \u001b[0;34m\u001b[0m\u001b[0m\n",
      "\u001b[0;32m~/anaconda3/lib/python3.9/site-packages/jax/_src/lax/control_flow.py\u001b[0m in \u001b[0;36m_while_lowering\u001b[0;34m(ctx, cond_jaxpr, body_jaxpr, cond_nconsts, body_nconsts, *args)\u001b[0m\n\u001b[1;32m    786\u001b[0m           name_stack=xla.extend_name_stack(ctx.module_context.name_stack,\n\u001b[1;32m    787\u001b[0m                                            'body'))\n\u001b[0;32m--> 788\u001b[0;31m       new_z = mlir.jaxpr_subcomp(body_ctx, body_jaxpr.jaxpr,\n\u001b[0m\u001b[1;32m    789\u001b[0m                                  \u001b[0m_map\u001b[0m\u001b[0;34m(\u001b[0m\u001b[0mmlir\u001b[0m\u001b[0;34m.\u001b[0m\u001b[0mir_constants\u001b[0m\u001b[0;34m,\u001b[0m \u001b[0mbody_jaxpr\u001b[0m\u001b[0;34m.\u001b[0m\u001b[0mconsts\u001b[0m\u001b[0;34m)\u001b[0m\u001b[0;34m,\u001b[0m\u001b[0;34m\u001b[0m\u001b[0;34m\u001b[0m\u001b[0m\n\u001b[1;32m    790\u001b[0m                                  *(y + z))\n",
      "\u001b[0;32m~/anaconda3/lib/python3.9/site-packages/jax/interpreters/mlir.py\u001b[0m in \u001b[0;36mjaxpr_subcomp\u001b[0;34m(ctx, jaxpr, consts, *args)\u001b[0m\n\u001b[1;32m    676\u001b[0m       rule_ctx = LoweringRuleContext(\n\u001b[1;32m    677\u001b[0m           \u001b[0mmodule_context\u001b[0m\u001b[0;34m=\u001b[0m\u001b[0mctx\u001b[0m\u001b[0;34m,\u001b[0m \u001b[0mprimitive\u001b[0m\u001b[0;34m=\u001b[0m\u001b[0meqn\u001b[0m\u001b[0;34m.\u001b[0m\u001b[0mprimitive\u001b[0m\u001b[0;34m,\u001b[0m\u001b[0;34m\u001b[0m\u001b[0;34m\u001b[0m\u001b[0m\n\u001b[0;32m--> 678\u001b[0;31m           avals_in=map(aval, eqn.invars), avals_out=map(aval, eqn.outvars))\n\u001b[0m\u001b[1;32m    679\u001b[0m       ans = rule(rule_ctx, *map(_unwrap_singleton_ir_values, in_nodes),\n\u001b[1;32m    680\u001b[0m                  **eqn.params)\n",
      "\u001b[0;32m~/anaconda3/lib/python3.9/site-packages/jax/_src/util.py\u001b[0m in \u001b[0;36msafe_map\u001b[0;34m(f, *args)\u001b[0m\n\u001b[1;32m     42\u001b[0m   \u001b[0;32mfor\u001b[0m \u001b[0marg\u001b[0m \u001b[0;32min\u001b[0m \u001b[0margs\u001b[0m\u001b[0;34m[\u001b[0m\u001b[0;36m1\u001b[0m\u001b[0;34m:\u001b[0m\u001b[0;34m]\u001b[0m\u001b[0;34m:\u001b[0m\u001b[0;34m\u001b[0m\u001b[0;34m\u001b[0m\u001b[0m\n\u001b[1;32m     43\u001b[0m     \u001b[0;32massert\u001b[0m \u001b[0mlen\u001b[0m\u001b[0;34m(\u001b[0m\u001b[0marg\u001b[0m\u001b[0;34m)\u001b[0m \u001b[0;34m==\u001b[0m \u001b[0mn\u001b[0m\u001b[0;34m,\u001b[0m \u001b[0;34m'length mismatch: {}'\u001b[0m\u001b[0;34m.\u001b[0m\u001b[0mformat\u001b[0m\u001b[0;34m(\u001b[0m\u001b[0mlist\u001b[0m\u001b[0;34m(\u001b[0m\u001b[0mmap\u001b[0m\u001b[0;34m(\u001b[0m\u001b[0mlen\u001b[0m\u001b[0;34m,\u001b[0m \u001b[0margs\u001b[0m\u001b[0;34m)\u001b[0m\u001b[0;34m)\u001b[0m\u001b[0;34m)\u001b[0m\u001b[0;34m\u001b[0m\u001b[0;34m\u001b[0m\u001b[0m\n\u001b[0;32m---> 44\u001b[0;31m   \u001b[0;32mreturn\u001b[0m \u001b[0mlist\u001b[0m\u001b[0;34m(\u001b[0m\u001b[0mmap\u001b[0m\u001b[0;34m(\u001b[0m\u001b[0mf\u001b[0m\u001b[0;34m,\u001b[0m \u001b[0;34m*\u001b[0m\u001b[0margs\u001b[0m\u001b[0;34m)\u001b[0m\u001b[0;34m)\u001b[0m\u001b[0;34m\u001b[0m\u001b[0;34m\u001b[0m\u001b[0m\n\u001b[0m\u001b[1;32m     45\u001b[0m \u001b[0;34m\u001b[0m\u001b[0m\n\u001b[1;32m     46\u001b[0m \u001b[0;32mdef\u001b[0m \u001b[0munzip2\u001b[0m\u001b[0;34m(\u001b[0m\u001b[0mxys\u001b[0m\u001b[0;34m)\u001b[0m\u001b[0;34m:\u001b[0m\u001b[0;34m\u001b[0m\u001b[0;34m\u001b[0m\u001b[0m\n",
      "\u001b[0;31mKeyboardInterrupt\u001b[0m: "
     ]
    }
   ],
   "source": [
    "## Train housekeeping\n",
    "train_size = train_len_func()\n",
    "n_batches = train_size // batch_size\n",
    "\n",
    "#Validation housekeeping\n",
    "valid_size = valid_len_func()\n",
    "valid_bs = 512\n",
    "valid_nbatches = valid_size // valid_bs\n",
    "\n",
    "# General run things\n",
    "summary_writer = tensorboard.SummaryWriter('.')\n",
    "loss_names= ['L'+str(i) for i in range(1, 7)]\n",
    "key = rnd.PRNGKey(0)\n",
    "\n",
    "for i in range(full_epochs):\n",
    "    # Run the training epoch\n",
    "    key, use_key = rnd.split(key, 2)\n",
    "    perm = rnd.permutation(use_key, train_size)[:batch_size*n_batches].reshape(n_batches, batch_size)\n",
    "    state, train_loss = train_epoch(model, state, train_dataset, perm, n_batches, eval_full=i>aec_only_epochs)\n",
    "    for j, loss in enumerate(train_loss):\n",
    "        summary_writer.scalar('Train ' + loss_names[j], loss, i)\n",
    "        \n",
    "    # Check the validation set\n",
    "    valid_losses = validation_run(model, state, valid_dataset, valid_bs, valid_nbatches)\n",
    "\n",
    "    print(i, train_loss)\n",
    "#     _, test_loss = validation_run(state, valid_dataset)"
   ]
  },
  {
   "cell_type": "markdown",
   "id": "714deaf7",
   "metadata": {},
   "source": [
    "## Experimenting with Trained Model"
   ]
  },
  {
   "cell_type": "code",
   "execution_count": null,
   "id": "b198a8fa",
   "metadata": {},
   "outputs": [],
   "source": []
  }
 ],
 "metadata": {
  "accelerator": "TPU",
  "colab": {
   "collapsed_sections": [],
   "name": "DeepGreen_rough.ipynb",
   "provenance": []
  },
  "kernelspec": {
   "display_name": "Python 3 (ipykernel)",
   "language": "python",
   "name": "python3"
  },
  "language_info": {
   "codemirror_mode": {
    "name": "ipython",
    "version": 3
   },
   "file_extension": ".py",
   "mimetype": "text/x-python",
   "name": "python",
   "nbconvert_exporter": "python",
   "pygments_lexer": "ipython3",
   "version": "3.9.7"
  }
 },
 "nbformat": 4,
 "nbformat_minor": 5
}
